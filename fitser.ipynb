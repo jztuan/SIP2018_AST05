{
 "cells": [
  {
   "cell_type": "code",
   "execution_count": 1,
   "metadata": {},
   "outputs": [],
   "source": [
    "from astropy.io import fits\n",
    "from astropy.table import Table\n",
    "import matplotlib.pyplot as plt\n",
    "%matplotlib inline"
   ]
  },
  {
   "cell_type": "code",
   "execution_count": 2,
   "metadata": {},
   "outputs": [],
   "source": [
    "fits_dir = '/Users/Jin Tuan/Desktop/SIP 2018 AST-05/fits/'"
   ]
  },
  {
   "cell_type": "code",
   "execution_count": 3,
   "metadata": {},
   "outputs": [],
   "source": [
    "#things to open\n",
    "c1a = fits.open(fits_dir + 'zspec.c1a.fits')\n",
    "c2a = fits.open(fits_dir + 'zspec.c2a.fits')\n",
    "e5a = fits.open(fits_dir + 'zspec.E5a.fits')\n",
    "e6a = fits.open(fits_dir + 'zspec.E6a.fits')\n",
    "e7a = fits.open(fits_dir + 'zspec.E7a.fits')\n",
    "gn0a = fits.open(fits_dir + 'zspec.GN0a.fits')\n",
    "gn2a = fits.open(fits_dir + 'zspec.GN2a.fits')\n",
    "gs0d_0 = fits.open(fits_dir + 'zspec.gs0d_0.fits')\n",
    "gs1d_0 = fits.open(fits_dir + 'zspec.gs1d_0.fits')"
   ]
  },
  {
   "cell_type": "code",
   "execution_count": 4,
   "metadata": {},
   "outputs": [
    {
     "name": "stdout",
     "output_type": "stream",
     "text": [
      "Filename: /Users/Jin Tuan/Desktop/SIP 2018 AST-05/fits/zspec.c1a.fits\n",
      "No.    Name      Ver    Type      Cards   Dimensions   Format\n",
      "  0  PRIMARY       1 PrimaryHDU       4   ()      \n",
      "  1                1 BinTableHDU     91   38R x 35C   [6A, 17A, 5A, 2A, 3A, 10A, D, E, E, E, J, E, 21A, 10J, 35E, 35E, 595A, J, 10E, E, E, I, 51A, 11A, 11A, I, E, E, 33A, 34A, 26A, A, E, E, E]   \n"
     ]
    }
   ],
   "source": [
    "#check info of file\n",
    "hdulist = c1a\n",
    "hdulist.info()"
   ]
  },
  {
   "cell_type": "code",
   "execution_count": 5,
   "metadata": {},
   "outputs": [
    {
     "name": "stdout",
     "output_type": "stream",
     "text": [
      "ColDefs(\n",
      "    name = 'CLASS'; format = '6A'\n",
      "    name = 'SUBCLASS'; format = '17A'\n",
      "    name = 'OBJNAME'; format = '5A'\n",
      "    name = 'SLITNAME'; format = '2A'\n",
      "    name = 'MASKNAME'; format = '3A'\n",
      "    name = 'DATE'; format = '10A'\n",
      "    name = 'MJD'; format = 'D'\n",
      "    name = 'Z'; format = 'E'\n",
      "    name = 'Z_ERR'; format = 'E'\n",
      "    name = 'RCHI2'; format = 'E'\n",
      "    name = 'DOF'; format = 'J'\n",
      "    name = 'RCHI2DIFF'; format = 'E'\n",
      "    name = 'TFILE'; format = '21A'\n",
      "    name = 'TCOLUMN'; format = '10J'\n",
      "    name = 'TMPL_RCHI2'; format = '35E'\n",
      "    name = 'TMPL_Z'; format = '35E'\n",
      "    name = 'TMPL_TFILE'; format = '595A'; dim = '(17, 35)'\n",
      "    name = 'NPOLY'; format = 'J'\n",
      "    name = 'THETA'; format = '10E'\n",
      "    name = 'VDISP'; format = 'E'\n",
      "    name = 'VDISP_ERR'; format = 'E'\n",
      "    name = 'ZQUALITY'; format = 'I'\n",
      "    name = 'EIGENDIR'; format = '51A'\n",
      "    name = 'RA'; format = '11A'\n",
      "    name = 'DEC'; format = '11A'\n",
      "    name = 'PRI'; format = 'I'\n",
      "    name = 'IMAG'; format = 'E'\n",
      "    name = 'RMAG'; format = 'E'\n",
      "    name = 'SPEC1D_FILE'; format = '33A'\n",
      "    name = 'ZSPEC1D_FILE'; format = '34A'\n",
      "    name = 'SPEC2D_FILE'; format = '26A'\n",
      "    name = 'COMMENT'; format = 'A'\n",
      "    name = 'AIRMASS'; format = 'E'\n",
      "    name = 'SN'; format = 'E'\n",
      "    name = 'ABAND'; format = 'E'\n",
      ")\n"
     ]
    }
   ],
   "source": [
    "#print columns\n",
    "print(hdulist[1].columns)"
   ]
  },
  {
   "cell_type": "code",
   "execution_count": 6,
   "metadata": {
    "scrolled": true
   },
   "outputs": [
    {
     "data": {
      "text/html": [
       "&lt;Table length=38&gt;\n",
       "<table id=\"table161513368\" class=\"table-striped table-bordered table-condensed\">\n",
       "<thead><tr><th>CLASS</th><th>SUBCLASS</th><th>OBJNAME</th><th>SLITNAME</th><th>MASKNAME</th><th>DATE</th><th>MJD</th><th>Z</th><th>Z_ERR</th><th>RCHI2</th><th>DOF</th><th>RCHI2DIFF</th><th>TFILE</th><th>TCOLUMN [10]</th><th>TMPL_RCHI2 [35]</th><th>TMPL_Z [35]</th><th>TMPL_TFILE [35]</th><th>NPOLY</th><th>THETA [10]</th><th>VDISP</th><th>VDISP_ERR</th><th>ZQUALITY</th><th>EIGENDIR</th><th>RA</th><th>DEC</th><th>PRI</th><th>IMAG</th><th>RMAG</th><th>SPEC1D_FILE</th><th>ZSPEC1D_FILE</th><th>SPEC2D_FILE</th><th>COMMENT</th><th>AIRMASS</th><th>SN</th><th>ABAND</th></tr></thead>\n",
       "<thead><tr><th>str6</th><th>str17</th><th>str5</th><th>str2</th><th>str3</th><th>str10</th><th>float64</th><th>float32</th><th>float32</th><th>float32</th><th>int32</th><th>float32</th><th>str21</th><th>int32</th><th>float32</th><th>float32</th><th>str17</th><th>int32</th><th>float32</th><th>float32</th><th>float32</th><th>int16</th><th>str51</th><th>str11</th><th>str11</th><th>int16</th><th>float32</th><th>float32</th><th>str33</th><th>str34</th><th>str26</th><th>str1</th><th>float32</th><th>float32</th><th>float32</th></tr></thead>\n",
       "<tr><td>STAR</td><td>HD41117 B2Iaev</td><td>10365</td><td>0</td><td>c1a</td><td>2017-03-04</td><td>57816.273386</td><td>-0.0015233159</td><td>7.317452e-05</td><td>0.40014854</td><td>8245</td><td>0.0</td><td>deimos_templates.fits</td><td>14 .. -1</td><td>0.40014854 .. 0.0</td><td>-0.0021290183 .. 0.0</td><td>SAO96548 C7       ..</td><td>4</td><td>-0.14543393 .. 0.0</td><td>0.0</td><td>0.0</td><td>2</td><td>/data/d/ekirby/idl/mgidl/mg_deimos_1012//templates/</td><td>10:00:21.85</td><td>+02:18:12.2</td><td>1</td><td>0.0</td><td>0.0</td><td>/c1a/spec1d.c1a.000.10365.fits.gz</td><td>/c1a/zspec1d.c1a.000.10365.fits.gz</td><td>/c1a/slit.c1a.000R.fits.gz</td><td></td><td>1.478333</td><td>1.5079848</td><td>0.00024461746</td></tr>\n",
       "<tr><td>STAR</td><td>HD052071 K2III</td><td>12651</td><td>1</td><td>c1a</td><td>2017-03-04</td><td>57816.273386</td><td>0.0006905794</td><td>4.4258897e-05</td><td>0.53049225</td><td>9198</td><td>0.0</td><td>deimos_templates.fits</td><td>10 .. -1</td><td>0.53049225 .. 0.0</td><td>-0.0027318597 .. 0.0</td><td>SAO69636 C8       ..</td><td>4</td><td>-0.047329113 .. 0.0</td><td>0.0</td><td>0.0</td><td>4</td><td>/data/d/ekirby/idl/mgidl/mg_deimos_1012//templates/</td><td>10:00:27.21</td><td>+02:19:50.5</td><td>1</td><td>0.0</td><td>0.0</td><td>/c1a/spec1d.c1a.001.12651.fits.gz</td><td>/c1a/zspec1d.c1a.001.12651.fits.gz</td><td>/c1a/slit.c1a.001R.fits.gz</td><td></td><td>1.478333</td><td>9.562634</td><td>5.4240227e-05</td></tr>\n",
       "<tr><td>STAR</td><td>HD164136 F2II</td><td>13059</td><td>2</td><td>c1a</td><td>2017-03-04</td><td>57816.273386</td><td>0.0011570454</td><td>5.207282e-05</td><td>0.50153565</td><td>9131</td><td>0.0</td><td>deimos_templates.fits</td><td>17 .. -1</td><td>0.50153565 .. 0.0</td><td>0.0011570454 .. 0.0</td><td>HD164136 F2II     ..</td><td>4</td><td>0.3788362 .. 0.0</td><td>0.0</td><td>0.0</td><td>4</td><td>/data/d/ekirby/idl/mgidl/mg_deimos_1012//templates/</td><td>10:00:21.95</td><td>+02:20:9.8</td><td>1</td><td>0.0</td><td>0.0</td><td>/c1a/spec1d.c1a.002.13059.fits.gz</td><td>/c1a/zspec1d.c1a.002.13059.fits.gz</td><td>/c1a/slit.c1a.002R.fits.gz</td><td></td><td>1.478333</td><td>7.2197995</td><td>8.058548e-05</td></tr>\n",
       "<tr><td>STAR</td><td>HD60522 M0III</td><td>1951</td><td>3</td><td>c1a</td><td>2017-03-04</td><td>57816.273386</td><td>-0.0012667179</td><td>1.5854457e-05</td><td>2.031013</td><td>7259</td><td>0.0</td><td>deimos_templates.fits</td><td>25 .. -1</td><td>2.031013 .. 0.0</td><td>0.0024422407 .. 0.0</td><td>HD088230 K7V      ..</td><td>4</td><td>-3.4593482 .. 0.0</td><td>0.0</td><td>0.0</td><td>2</td><td>/data/d/ekirby/idl/mgidl/mg_deimos_1012//templates/</td><td>10:00:31.56</td><td>+02:12:11.8</td><td>1</td><td>0.0</td><td>0.0</td><td>/c1a/spec1d.c1a.003.1951.fits.gz</td><td>/c1a/zspec1d.c1a.003.1951.fits.gz</td><td>/c1a/slit.c1a.003R.fits.gz</td><td></td><td>1.478333</td><td>2.6005795</td><td>-5.120039e-05</td></tr>\n",
       "<tr><td>STAR</td><td>HD164136 F2II</td><td>2153</td><td>4</td><td>c1a</td><td>2017-03-04</td><td>57816.273386</td><td>0.00036358833</td><td>3.0670748e-05</td><td>0.53572464</td><td>7358</td><td>0.0</td><td>deimos_templates.fits</td><td>17 .. -1</td><td>0.53572464 .. 0.0</td><td>0.00036358833 .. 0.0</td><td>HD164136 F2II     ..</td><td>4</td><td>0.7168419 .. 0.0</td><td>0.0</td><td>0.0</td><td>4</td><td>/data/d/ekirby/idl/mgidl/mg_deimos_1012//templates/</td><td>10:00:31.90</td><td>+02:12:20.1</td><td>1</td><td>0.0</td><td>0.0</td><td>/c1a/spec1d.c1a.004.2153.fits.gz</td><td>/c1a/zspec1d.c1a.004.2153.fits.gz</td><td>/c1a/slit.c1a.004R.fits.gz</td><td></td><td>1.478333</td><td>7.2048016</td><td>6.389618e-05</td></tr>\n",
       "<tr><td>STAR</td><td>HD65900 A1V</td><td>3188</td><td>5</td><td>c1a</td><td>2017-03-04</td><td>57816.273386</td><td>0.00041294098</td><td>2.4215957e-05</td><td>1.3547992</td><td>7919</td><td>0.0</td><td>deimos_templates.fits</td><td>16 .. -1</td><td>1.3547992 .. 0.0</td><td>0.00041294098 .. 0.0</td><td>HD65900 A1V       ..</td><td>4</td><td>0.2869034 .. 0.0</td><td>0.0</td><td>0.0</td><td>4</td><td>/data/d/ekirby/idl/mgidl/mg_deimos_1012//templates/</td><td>10:00:34.67</td><td>+02:12:56.9</td><td>1</td><td>0.0</td><td>0.0</td><td>/c1a/spec1d.c1a.005.3188.fits.gz</td><td>/c1a/zspec1d.c1a.005.3188.fits.gz</td><td>/c1a/slit.c1a.005R.fits.gz</td><td></td><td>1.478333</td><td>22.589497</td><td>0.00010120869</td></tr>\n",
       "<tr><td>STAR</td><td>HD164136 F2II</td><td>3688</td><td>6</td><td>c1a</td><td>2017-03-04</td><td>57816.273386</td><td>0.0005965233</td><td>5.7966114e-05</td><td>0.4724442</td><td>8056</td><td>0.0</td><td>deimos_templates.fits</td><td>17 .. -1</td><td>0.4724442 .. 0.0</td><td>0.0005965233 .. 0.0</td><td>HD164136 F2II     ..</td><td>4</td><td>0.48227698 .. 0.0</td><td>0.0</td><td>0.0</td><td>4</td><td>/data/d/ekirby/idl/mgidl/mg_deimos_1012//templates/</td><td>10:00:34.75</td><td>+02:13:16.5</td><td>1</td><td>0.0</td><td>0.0</td><td>/c1a/spec1d.c1a.006.3688.fits.gz</td><td>/c1a/zspec1d.c1a.006.3688.fits.gz</td><td>/c1a/slit.c1a.006R.fits.gz</td><td></td><td>1.478333</td><td>6.354733</td><td>0.0001411438</td></tr>\n",
       "<tr><td>STAR</td><td>HD105546 G2III</td><td>3861</td><td>7</td><td>c1a</td><td>2017-03-04</td><td>57816.273386</td><td>0.00033356683</td><td>6.522305e-05</td><td>0.5320994</td><td>8070</td><td>0.0</td><td>deimos_templates.fits</td><td>7 .. -1</td><td>0.5320994 .. 0.0</td><td>-0.0030431151 .. 0.0</td><td>HD105546 G2III    ..</td><td>4</td><td>-0.44831282 .. 0.0</td><td>0.0</td><td>0.0</td><td>4</td><td>/data/d/ekirby/idl/mgidl/mg_deimos_1012//templates/</td><td>10:00:34.83</td><td>+02:13:24.6</td><td>1</td><td>0.0</td><td>0.0</td><td>/c1a/spec1d.c1a.007.3861.fits.gz</td><td>/c1a/zspec1d.c1a.007.3861.fits.gz</td><td>/c1a/slit.c1a.007R.fits.gz</td><td></td><td>1.478333</td><td>5.8359275</td><td>4.2915344e-05</td></tr>\n",
       "<tr><td>STAR</td><td>HD066665 B1V</td><td>4490</td><td>8</td><td>c1a</td><td>2017-03-04</td><td>57816.273386</td><td>-0.0028500557</td><td>4.8855134e-05</td><td>0.62582034</td><td>9313</td><td>0.0</td><td>deimos_templates.fits</td><td>0 .. -1</td><td>0.62582034 .. 0.0</td><td>-0.0028500557 .. 0.0</td><td>HD066665 B1V      ..</td><td>4</td><td>-3.9402068 .. 0.0</td><td>0.0</td><td>0.0</td><td>0</td><td>/data/d/ekirby/idl/mgidl/mg_deimos_1012//templates/</td><td>10:00:43.21</td><td>+02:13:52.6</td><td>1</td><td>0.0</td><td>0.0</td><td>/c1a/spec1d.c1a.008.4490.fits.gz</td><td>/c1a/zspec1d.c1a.008.4490.fits.gz</td><td>/c1a/slit.c1a.008R.fits.gz</td><td></td><td>1.478333</td><td>3.0881326</td><td>7.56979e-05</td></tr>\n",
       "<tr><td>STAR</td><td>HD237846 F8</td><td>6797</td><td>9</td><td>c1a</td><td>2017-03-04</td><td>57816.273386</td><td>-0.00039738417</td><td>8.111158e-05</td><td>0.43442047</td><td>9209</td><td>0.0</td><td>deimos_templates.fits</td><td>6 .. -1</td><td>0.43442047 .. 0.0</td><td>-0.00039738417 .. 0.0</td><td>HD237846 F8       ..</td><td>4</td><td>-1.6564262 .. 0.0</td><td>0.0</td><td>0.0</td><td>2</td><td>/data/d/ekirby/idl/mgidl/mg_deimos_1012//templates/</td><td>10:00:39.72</td><td>+02:15:38.0</td><td>1</td><td>0.0</td><td>0.0</td><td>/c1a/spec1d.c1a.009.6797.fits.gz</td><td>/c1a/zspec1d.c1a.009.6797.fits.gz</td><td>/c1a/slit.c1a.009R.fits.gz</td><td></td><td>1.478333</td><td>1.3071274</td><td>2.1338463e-05</td></tr>\n",
       "<tr><td>...</td><td>...</td><td>...</td><td>...</td><td>...</td><td>...</td><td>...</td><td>...</td><td>...</td><td>...</td><td>...</td><td>...</td><td>...</td><td>...</td><td>...</td><td>...</td><td>...</td><td>...</td><td>...</td><td>...</td><td>...</td><td>...</td><td>...</td><td>...</td><td>...</td><td>...</td><td>...</td><td>...</td><td>...</td><td>...</td><td>...</td><td>...</td><td>...</td><td>...</td><td>...</td></tr>\n",
       "<tr><td>STAR</td><td>HD088230 K7V</td><td>38017</td><td>34</td><td>c1a</td><td>2017-03-04</td><td>57816.273386</td><td>0.0014139414</td><td>4.3542623e-05</td><td>1.0278344</td><td>7721</td><td>0.0</td><td>deimos_templates.fits</td><td>11 .. -1</td><td>1.0278344 .. 0.0</td><td>0.0025024414 .. 0.0</td><td>SAO96548 C7       ..</td><td>4</td><td>-0.09124268 .. 0.0</td><td>0.0</td><td>0.0</td><td>4</td><td>/data/d/ekirby/idl/mgidl/mg_deimos_1012//templates/</td><td>10:00:44.55</td><td>+02:09:6.8</td><td>1</td><td>0.0</td><td>0.0</td><td>/c1a/spec1d.c1a.034.38017.fits.gz</td><td>/c1a/zspec1d.c1a.034.38017.fits.gz</td><td>/c1a/slit.c1a.034R.fits.gz</td><td></td><td>1.478333</td><td>10.2705145</td><td>7.200241e-05</td></tr>\n",
       "<tr><td>STAR</td><td>HD164136 F2II</td><td>39264</td><td>35</td><td>c1a</td><td>2017-03-04</td><td>57816.273386</td><td>0.00076186657</td><td>1.3688758e-05</td><td>1.3470806</td><td>7411</td><td>0.0</td><td>deimos_templates.fits</td><td>17 .. -1</td><td>1.3470806 .. 0.0</td><td>0.00076186657 .. 0.0</td><td>HD164136 F2II     ..</td><td>4</td><td>0.44998154 .. 0.0</td><td>0.0</td><td>0.0</td><td>4</td><td>/data/d/ekirby/idl/mgidl/mg_deimos_1012//templates/</td><td>10:00:39.92</td><td>+02:09:36.0</td><td>1</td><td>0.0</td><td>0.0</td><td>/c1a/spec1d.c1a.035.39264.fits.gz</td><td>/c1a/zspec1d.c1a.035.39264.fits.gz</td><td>/c1a/slit.c1a.035R.fits.gz</td><td></td><td>1.478333</td><td>26.108343</td><td>7.414818e-05</td></tr>\n",
       "<tr><td>STAR</td><td>HD088230 K7V</td><td>41015</td><td>36</td><td>c1a</td><td>2017-03-04</td><td>57816.273386</td><td>-6.556511e-07</td><td>4.7029283e-05</td><td>0.6078026</td><td>7934</td><td>0.0</td><td>deimos_templates.fits</td><td>11 .. -1</td><td>0.6078026 .. 0.0</td><td>-6.556511e-07 .. 0.0</td><td>HD088230 K7V      ..</td><td>4</td><td>0.26749435 .. 0.0</td><td>0.0</td><td>0.0</td><td>4</td><td>/data/d/ekirby/idl/mgidl/mg_deimos_1012//templates/</td><td>10:00:42.03</td><td>+02:10:21.3</td><td>1</td><td>0.0</td><td>0.0</td><td>/c1a/spec1d.c1a.036.41015.fits.gz</td><td>/c1a/zspec1d.c1a.036.41015.fits.gz</td><td>/c1a/slit.c1a.036R.fits.gz</td><td></td><td>1.478333</td><td>8.190069</td><td>0.00012373924</td></tr>\n",
       "<tr><td>STAR</td><td>HD088230 K7V</td><td>41280</td><td>37</td><td>c1a</td><td>2017-03-04</td><td>57816.273386</td><td>0.00050735474</td><td>1.7008321e-06</td><td>25.016474</td><td>8224</td><td>0.0</td><td>deimos_templates.fits</td><td>11 .. -1</td><td>25.016474 .. 0.0</td><td>-0.00011008978 .. 0.0</td><td>HD087737 A0Ib     ..</td><td>4</td><td>0.9982316 .. 0.0</td><td>0.0</td><td>0.0</td><td>4</td><td>/data/d/ekirby/idl/mgidl/mg_deimos_1012//templates/</td><td>10:00:53.25</td><td>+02:10:19.5</td><td>1</td><td>0.0</td><td>0.0</td><td>/c1a/spec1d.c1a.037.41280.fits.gz</td><td>/c1a/zspec1d.c1a.037.41280.fits.gz</td><td>/c1a/slit.c1a.037R.fits.gz</td><td></td><td>1.478333</td><td>75.35191</td><td>4.1365623e-05</td></tr>\n",
       "<tr><td>STAR</td><td>HD164136 F2II</td><td>42315</td><td>38</td><td>c1a</td><td>2017-03-04</td><td>57816.273386</td><td>0.0008980036</td><td>8.421795e-06</td><td>4.2069507</td><td>8613</td><td>0.0</td><td>deimos_templates.fits</td><td>17 .. -1</td><td>4.2069507 .. 0.0</td><td>0.0008980036 .. 0.0</td><td>HD164136 F2II     ..</td><td>4</td><td>0.41455835 .. 0.0</td><td>0.0</td><td>0.0</td><td>4</td><td>/data/d/ekirby/idl/mgidl/mg_deimos_1012//templates/</td><td>10:00:46.05</td><td>+02:10:52.5</td><td>1</td><td>0.0</td><td>0.0</td><td>/c1a/spec1d.c1a.038.42315.fits.gz</td><td>/c1a/zspec1d.c1a.038.42315.fits.gz</td><td>/c1a/slit.c1a.038R.fits.gz</td><td></td><td>1.478333</td><td>41.553688</td><td>9.381771e-05</td></tr>\n",
       "<tr><td>STAR</td><td>HD237846 F8</td><td>42508</td><td>39</td><td>c1a</td><td>2017-03-04</td><td>57816.273386</td><td>0.0005046129</td><td>4.5484805e-05</td><td>0.5604267</td><td>7423</td><td>0.0</td><td>deimos_templates.fits</td><td>6 .. -1</td><td>0.5604267 .. 0.0</td><td>0.0005046129 .. 0.0</td><td>HD237846 F8       ..</td><td>4</td><td>1.0171716 .. 0.0</td><td>0.0</td><td>0.0</td><td>3</td><td>/data/d/ekirby/idl/mgidl/mg_deimos_1012//templates/</td><td>10:00:36.19</td><td>+02:11:0.4</td><td>1</td><td>0.0</td><td>0.0</td><td>/c1a/spec1d.c1a.039.42508.fits.gz</td><td>/c1a/zspec1d.c1a.039.42508.fits.gz</td><td>/c1a/slit.c1a.039R.fits.gz</td><td></td><td>1.478333</td><td>6.7134714</td><td>4.196167e-05</td></tr>\n",
       "<tr><td>STAR</td><td>HD105546 G2III</td><td>43031</td><td>40</td><td>c1a</td><td>2017-03-04</td><td>57816.273386</td><td>0.00013744831</td><td>2.3553175e-05</td><td>0.6320925</td><td>8360</td><td>0.0</td><td>deimos_templates.fits</td><td>7 .. -1</td><td>0.6320925 .. 0.0</td><td>0.00013744831 .. 0.0</td><td>HD105546 G2III    ..</td><td>4</td><td>0.50860715 .. 0.0</td><td>0.0</td><td>0.0</td><td>4</td><td>/data/d/ekirby/idl/mgidl/mg_deimos_1012//templates/</td><td>10:00:42.86</td><td>+02:11:11.1</td><td>1</td><td>0.0</td><td>0.0</td><td>/c1a/spec1d.c1a.040.43031.fits.gz</td><td>/c1a/zspec1d.c1a.040.43031.fits.gz</td><td>/c1a/slit.c1a.040R.fits.gz</td><td></td><td>1.478333</td><td>11.396941</td><td>9.858608e-05</td></tr>\n",
       "<tr><td>STAR</td><td>HD237846 F8</td><td>43111</td><td>41</td><td>c1a</td><td>2017-03-04</td><td>57816.273386</td><td>0.00084638596</td><td>4.1441563e-05</td><td>0.41421285</td><td>8333</td><td>0.0</td><td>deimos_templates.fits</td><td>6 .. -1</td><td>0.41421285 .. 0.0</td><td>0.00084638596 .. 0.0</td><td>HD237846 F8       ..</td><td>4</td><td>0.9176025 .. 0.0</td><td>0.0</td><td>0.0</td><td>4</td><td>/data/d/ekirby/idl/mgidl/mg_deimos_1012//templates/</td><td>10:00:42.52</td><td>+02:11:15.8</td><td>1</td><td>0.0</td><td>0.0</td><td>/c1a/spec1d.c1a.041.43111.fits.gz</td><td>/c1a/zspec1d.c1a.041.43111.fits.gz</td><td>/c1a/slit.c1a.041R.fits.gz</td><td></td><td>1.478333</td><td>5.184404</td><td>4.0888786e-05</td></tr>\n",
       "<tr><td>STAR</td><td>HD164136 F2II</td><td>43512</td><td>42</td><td>c1a</td><td>2017-03-04</td><td>57816.273386</td><td>0.0007442236</td><td>6.3739562e-06</td><td>5.1454525</td><td>8839</td><td>0.0</td><td>deimos_templates.fits</td><td>17 .. -1</td><td>5.1454525 .. 0.0</td><td>0.0007442236 .. 0.0</td><td>HD164136 F2II     ..</td><td>4</td><td>0.28459263 .. 0.0</td><td>0.0</td><td>0.0</td><td>4</td><td>/data/d/ekirby/idl/mgidl/mg_deimos_1012//templates/</td><td>10:00:50.03</td><td>+02:11:19.7</td><td>1</td><td>0.0</td><td>0.0</td><td>/c1a/spec1d.c1a.042.43512.fits.gz</td><td>/c1a/zspec1d.c1a.042.43512.fits.gz</td><td>/c1a/slit.c1a.042R.fits.gz</td><td></td><td>1.478333</td><td>65.146545</td><td>9.1314316e-05</td></tr>\n",
       "<tr><td>STAR</td><td>HD60522 M0III</td><td>44632</td><td>43</td><td>c1a</td><td>2017-03-04</td><td>57816.273386</td><td>0.9097702</td><td>0.0001114937</td><td>0.8935263</td><td>9039</td><td>0.0</td><td>deimos_templates.fits</td><td>25 .. -1</td><td>0.8935263 .. 0.0</td><td>-0.0017358065 .. 0.0</td><td>HD60522 M0III     ..</td><td>4</td><td>-0.5128056 .. 0.0</td><td>0.0</td><td>0.0</td><td>0</td><td>/data/d/ekirby/idl/mgidl/mg_deimos_1012//templates/</td><td>10:00:49.16</td><td>+02:11:53.7</td><td>1</td><td>0.0</td><td>0.0</td><td>/c1a/spec1d.c1a.043.44632.fits.gz</td><td>/c1a/zspec1d.c1a.043.44632.fits.gz</td><td>/c1a/slit.c1a.043R.fits.gz</td><td></td><td>1.478333</td><td>1.3167992</td><td>0.0002821684</td></tr>\n",
       "</table>"
      ],
      "text/plain": [
       "<Table length=38>\n",
       "CLASS       SUBCLASS     OBJNAME SLITNAME ... AIRMASS      SN         ABAND    \n",
       " str6        str17         str5    str2   ... float32   float32      float32   \n",
       "------ ----------------- ------- -------- ... -------- ---------- -------------\n",
       "STAR   HD41117 B2Iaev      10365       0  ... 1.478333  1.5079848 0.00024461746\n",
       "STAR   HD052071 K2III      12651       1  ... 1.478333   9.562634 5.4240227e-05\n",
       "STAR   HD164136 F2II       13059       2  ... 1.478333  7.2197995  8.058548e-05\n",
       "STAR   HD60522 M0III       1951        3  ... 1.478333  2.6005795 -5.120039e-05\n",
       "STAR   HD164136 F2II       2153        4  ... 1.478333  7.2048016  6.389618e-05\n",
       "STAR   HD65900 A1V         3188        5  ... 1.478333  22.589497 0.00010120869\n",
       "STAR   HD164136 F2II       3688        6  ... 1.478333   6.354733  0.0001411438\n",
       "STAR   HD105546 G2III      3861        7  ... 1.478333  5.8359275 4.2915344e-05\n",
       "STAR   HD066665 B1V        4490        8  ... 1.478333  3.0881326   7.56979e-05\n",
       "STAR   HD237846 F8         6797        9  ... 1.478333  1.3071274 2.1338463e-05\n",
       "   ...               ...     ...      ... ...      ...        ...           ...\n",
       "STAR   HD088230 K7V        38017       34 ... 1.478333 10.2705145  7.200241e-05\n",
       "STAR   HD164136 F2II       39264       35 ... 1.478333  26.108343  7.414818e-05\n",
       "STAR   HD088230 K7V        41015       36 ... 1.478333   8.190069 0.00012373924\n",
       "STAR   HD088230 K7V        41280       37 ... 1.478333   75.35191 4.1365623e-05\n",
       "STAR   HD164136 F2II       42315       38 ... 1.478333  41.553688  9.381771e-05\n",
       "STAR   HD237846 F8         42508       39 ... 1.478333  6.7134714  4.196167e-05\n",
       "STAR   HD105546 G2III      43031       40 ... 1.478333  11.396941  9.858608e-05\n",
       "STAR   HD237846 F8         43111       41 ... 1.478333   5.184404 4.0888786e-05\n",
       "STAR   HD164136 F2II       43512       42 ... 1.478333  65.146545 9.1314316e-05\n",
       "STAR   HD60522 M0III       44632       43 ... 1.478333  1.3167992  0.0002821684"
      ]
     },
     "execution_count": 6,
     "metadata": {},
     "output_type": "execute_result"
    }
   ],
   "source": [
    "#get table\n",
    "data = Table(hdulist[1].data)\n",
    "data"
   ]
  },
  {
   "cell_type": "code",
   "execution_count": 7,
   "metadata": {},
   "outputs": [],
   "source": [
    "#close file\n",
    "hdulist.close() \n",
    "#to ensure no \"ValueError: I/O operation on closed file\" on next run, restart + run all cells"
   ]
  },
  {
   "cell_type": "code",
   "execution_count": null,
   "metadata": {},
   "outputs": [],
   "source": []
  }
 ],
 "metadata": {
  "kernelspec": {
   "display_name": "Python 2",
   "language": "python",
   "name": "python2"
  },
  "language_info": {
   "codemirror_mode": {
    "name": "ipython",
    "version": 2
   },
   "file_extension": ".py",
   "mimetype": "text/x-python",
   "name": "python",
   "nbconvert_exporter": "python",
   "pygments_lexer": "ipython2",
   "version": "2.7.15"
  }
 },
 "nbformat": 4,
 "nbformat_minor": 2
}
